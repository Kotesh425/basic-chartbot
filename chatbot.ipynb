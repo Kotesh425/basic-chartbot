{
  "nbformat": 4,
  "nbformat_minor": 0,
  "metadata": {
    "colab": {
      "provenance": []
    },
    "kernelspec": {
      "name": "python3",
      "display_name": "Python 3"
    },
    "language_info": {
      "name": "python"
    }
  },
  "cells": [
    {
      "cell_type": "code",
      "source": [
        "def chatbot():\n",
        "    while True:\n",
        "        user_input = input(\"You: \").lower()\n",
        "        if user_input == \"hello\":\n",
        "            print(\"Bot: Hi!\")\n",
        "        elif user_input == \"how are you\":\n",
        "            print(\"Bot: I'm fine, thanks!\")\n",
        "        elif user_input == \"bye\":\n",
        "            print(\"Bot: Goodbye!\")\n",
        "            break\n",
        "        else:\n",
        "            print(\"Bot: Sorry, I don't understand.\")\n",
        "\n",
        "chatbot()\n"
      ],
      "metadata": {
        "colab": {
          "base_uri": "https://localhost:8080/"
        },
        "id": "sS1HvN4ESdL8",
        "outputId": "bebb8191-85df-47bc-e342-c9d4eff2402c"
      },
      "execution_count": 3,
      "outputs": [
        {
          "output_type": "stream",
          "name": "stdout",
          "text": [
            "You: hello\n",
            "Bot: Hi!\n",
            "You: how are you\n",
            "Bot: I'm fine, thanks!\n",
            "You: bye\n",
            "Bot: Goodbye!\n"
          ]
        }
      ]
    }
  ]
}